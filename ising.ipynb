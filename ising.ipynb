{
  "nbformat": 4,
  "nbformat_minor": 0,
  "metadata": {
    "colab": {
      "provenance": [],
      "authorship_tag": "ABX9TyOo6XpDwjvJhOYCBCHyA69w",
      "include_colab_link": true
    },
    "kernelspec": {
      "name": "python3",
      "display_name": "Python 3"
    },
    "language_info": {
      "name": "python"
    }
  },
  "cells": [
    {
      "cell_type": "markdown",
      "metadata": {
        "id": "view-in-github",
        "colab_type": "text"
      },
      "source": [
        "<a href=\"https://colab.research.google.com/github/fcalvay/phystat/blob/main/ising.ipynb\" target=\"_parent\"><img src=\"https://colab.research.google.com/assets/colab-badge.svg\" alt=\"Open In Colab\"/></a>"
      ]
    },
    {
      "cell_type": "code",
      "execution_count": null,
      "metadata": {
        "id": "4_z4fDrnYr6R"
      },
      "outputs": [],
      "source": [
        "#!/usr/bin/env python3\n",
        "# -*- coding: utf-8 -*-\n",
        "\"\"\"\n",
        "Created on Fri Mar 29 15:12:11 2024\n",
        "\n",
        "@author: florentcalvayrac\n",
        "\"\"\"\n",
        "\n",
        "\n",
        "import numpy as np\n",
        "import matplotlib.pyplot as plt\n",
        "\n",
        "# Ising model parameters\n",
        "N = 16  # Grid size for N x N\n",
        "steps_per_spin = 500  # Monte Carlo steps per spin\n",
        "total_steps = N * N * steps_per_spin\n",
        "temperatures = np.linspace(0.5, 3.5, 21)  # Temperature range\n",
        "\n",
        "def delta_energy(spins, i, j, N):\n",
        "    \"\"\"Calculate the energy change from flipping a spin at position (i, j).\"\"\"\n",
        "    total_spin = 0\n",
        "    for di, dj in [(-1, 0), (1, 0), (0, -1), (0, 1)]:  # Neighbors\n",
        "        # Periodic boundary conditions\n",
        "        ni, nj = (i + di) % N, (j + dj) % N\n",
        "        total_spin += spins[ni, nj]\n",
        "    return 2 * spins[i, j] * total_spin\n",
        "\n",
        "# Storage for average magnetization at each temperature\n",
        "magnetizations = []\n",
        "\n",
        "for T in temperatures:\n",
        "    spins = np.random.choice([-1, 1], size=(N, N))  # Random initial configuration\n",
        "    magnetization = []\n",
        "\n",
        "    for _ in range(total_steps):\n",
        "        i, j = np.random.randint(0, N, 2)  # Randomly choose a spin\n",
        "        dE = delta_energy(spins, i, j, N)\n",
        "\n",
        "        if dE <= 0 or np.random.rand() < np.exp(-dE / T):  # Metropolis condition\n",
        "            spins[i, j] *= -1  # Flip the spin\n",
        "\n",
        "    # Compute the average magnetization for this temperature\n",
        "    avg_magnetization = np.abs(np.mean(spins))\n",
        "    magnetizations.append(avg_magnetization)\n",
        "\n",
        "# Plotting the results\n",
        "plt.figure(figsize=(8, 5))\n",
        "plt.plot(temperatures, magnetizations, '-o', label='Average Magnetization')\n",
        "plt.xlabel('Temperature')\n",
        "plt.ylabel('Average Magnetization')\n",
        "plt.title('Average Magnetization vs. Temperature for the 2D Ising Model')\n",
        "plt.legend()\n",
        "plt.grid(True)\n",
        "plt.show()"
      ]
    }
  ]
}